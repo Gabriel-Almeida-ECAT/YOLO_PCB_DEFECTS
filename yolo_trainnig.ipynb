{
 "metadata": {
  "kernelspec": {
   "language": "python",
   "display_name": "Python 3",
   "name": "python3"
  },
  "language_info": {
   "name": "python",
   "version": "3.10.13",
   "mimetype": "text/x-python",
   "codemirror_mode": {
    "name": "ipython",
    "version": 3
   },
   "pygments_lexer": "ipython3",
   "nbconvert_exporter": "python",
   "file_extension": ".py"
  },
  "kaggle": {
   "accelerator": "nvidiaTeslaT4",
   "dataSources": [
    {
     "sourceId": 2266446,
     "sourceType": "datasetVersion",
     "datasetId": 1364422
    }
   ],
   "dockerImageVersionId": 30698,
   "isInternetEnabled": true,
   "language": "python",
   "sourceType": "notebook",
   "isGpuEnabled": true
  }
 },
 "nbformat_minor": 4,
 "nbformat": 4,
 "cells": [
  {
   "cell_type": "code",
   "execution_count": null,
   "outputs": [],
   "source": [
    "# This Python 3 environment comes with many helpful analytics libraries installed\n",
    "# It is defined by the kaggle/python Docker image: https://github.com/kaggle/docker-python\n",
    "# For example, here's several helpful packages to load\n",
    "\n",
    "import numpy as np # linear algebra\n",
    "import pandas as pd # data processing, CSV file I/O (e.g. pd.read_csv)\n",
    "\n",
    "# Input data files are available in the read-only \"../input/\" directory\n",
    "# For example, running this (by clicking run or pressing Shift+Enter) will list all files under the input directory\n",
    "\n",
    "'''import os\n",
    "for dirname, _, filenames in os.walk('/kaggle/input'):\n",
    "    for filename in filenames:\n",
    "        print(os.path.join(dirname, filename))'''\n",
    "\n",
    "# You can write up to 20GB to the current directory (/kaggle/working/) that gets preserved as output when you create a version using \"Save & Run All\" \n",
    "# You can also write temporary files to /kaggle/temp/, but they won't be saved outside of the current session\n",
    "\n",
    "# https://www.freecodecamp.org/news/how-to-detect-objects-in-images-using-yolov8/\n",
    "# https://underactuated.mit.edu/pend.html\n",
    "# https://manipulation.csail.mit.edu/\n",
    "# https://deepnote.com/workspace/Underactuated-2ed1518a-973b-4145-bd62-1768b49956a8/project/52e7e101-429f-4aef-a373-e4cca7980cfe/notebook/intro-8ca11815e8354b658378157cd15c1725\n",
    "# https://www.amazon.com/Nonlinear-Dynamics-Chaos-Applications-Nonlinearity/dp/0738204536\n",
    "# https://www.youtube.com/playlist?list=PLkx8KyIQkMfU5szP43GlE_S1QGSPQfL9s\n"
   ],
   "metadata": {
    "collapsed": false,
    "pycharm": {
     "name": "#%%\n"
    }
   }
  },
  {
   "cell_type": "code",
   "execution_count": null,
   "outputs": [],
   "source": [
    "import os\n",
    "HOME = os.chdir('/kaggle/input')\n",
    "\n",
    "!ls"
   ],
   "metadata": {
    "collapsed": false,
    "pycharm": {
     "name": "#%%\n"
    }
   }
  },
  {
   "cell_type": "code",
   "execution_count": null,
   "outputs": [],
   "source": [
    "%pip install ultralytics\n",
    "import ultralytics\n",
    "ultralytics.checks()"
   ],
   "metadata": {
    "collapsed": false,
    "pycharm": {
     "name": "#%%\n"
    }
   }
  },
  {
   "cell_type": "markdown",
   "source": [
    "![image.png](attachment:5d5ce76b-708a-4def-b367-c5f2a2f5d336.png)\n",
    "\n",
    "![image.png](attachment:978d5e3a-4c0b-46d8-966e-391d6cbcbecf.png)![image.png](attachment:f89fc233-c61d-4c24-9375-b069697b9f9e.png)"
   ],
   "metadata": {
    "collapsed": false,
    "pycharm": {
     "name": "#%% md\n"
    }
   }
  },
  {
   "cell_type": "code",
   "execution_count": null,
   "outputs": [],
   "source": [
    "import os\n",
    "import pandas as pd\n",
    "\n",
    "from tabulate import tabulate\n",
    "from shutil import copyfile\n",
    "from glob import glob\n",
    "from xml.etree import ElementTree as et\n",
    "from sklearn.model_selection import train_test_split"
   ],
   "metadata": {
    "collapsed": false,
    "pycharm": {
     "name": "#%%\n"
    }
   }
  },
  {
   "cell_type": "code",
   "execution_count": null,
   "outputs": [],
   "source": [
    "def extract_img_text(xml_path: str) -> list[dict]:\n",
    "    tree = et.parse(xml_path)\n",
    "    root = tree.getroot()\n",
    "\n",
    "    list_dicts = []\n",
    "\n",
    "    objects = root.findall('object')\n",
    "    for ind, obj in enumerate(objects):\n",
    "        dict_info = {}\n",
    "\n",
    "        dict_info['img_name'] = root.find('filename').text\n",
    "        dict_info['img_width'] = root.find('size').find('width').text\n",
    "        dict_info['img_height'] = root.find('size').find('height').text\n",
    "\n",
    "        bndbox = obj.find('bndbox')\n",
    "        dict_info['obj_name'] = obj.find('name').text\n",
    "        dict_info['x_min'] = bndbox.find('xmin').text\n",
    "        dict_info['x_max'] = bndbox.find('xmax').text\n",
    "        dict_info['y_min'] = bndbox.find('ymin').text\n",
    "        dict_info['y_max'] = bndbox.find('ymax').text\n",
    "\n",
    "        list_dicts.append(dict_info)\n",
    "\n",
    "    return list_dicts"
   ],
   "metadata": {
    "collapsed": false,
    "pycharm": {
     "name": "#%%\n"
    }
   }
  },
  {
   "cell_type": "code",
   "execution_count": null,
   "outputs": [],
   "source": [
    "annotations_dir = r'/kaggle/input/pcb-defects/PCB_DATASET/Annotations'\n",
    "images_dir = r'/kaggle/input/pcb-defects/PCB_DATASET/images'\n",
    "\n",
    "# Get source paths\n",
    "list_anotations_src_dirs = [os.path.join(annotations_dir, class_name) for class_name in os.listdir(annotations_dir)]\n",
    "replace_text = lambda x: x.replace('\\\\', '/')\n",
    "list_anotations_src_dirs = list(map(replace_text, list_anotations_src_dirs))\n",
    "\n",
    "list_images_src_dirs = [os.path.join(images_dir, class_name) for class_name in os.listdir(images_dir)]\n",
    "list_images_src_dirs = list(map(replace_text, list_images_src_dirs))\n",
    "\n",
    "\n",
    "# get all xml files paths\n",
    "all_ann_files = []\n",
    "for each_class in list_anotations_src_dirs:\n",
    "    xml_files = glob(each_class + '/*.xml')\n",
    "    all_ann_files += list(map(replace_text, xml_files))\n",
    "\n",
    "\n",
    "# get all images files paths\n",
    "all_img_files = []\n",
    "for each_class in list_images_src_dirs:\n",
    "    img_files = glob(each_class + '/*.jpg')\n",
    "    all_img_files += list(map(replace_text, img_files))\n",
    "\n",
    "\n",
    "# print(extract_img_text('kaggle_pcb_dataset/Annotations/Missing_hole/01_missing_hole_01.xml'))\n",
    "all_annotations = []\n",
    "for xml_file in all_ann_files:\n",
    "    all_annotations += extract_img_text(xml_file)\n",
    "\n",
    "df_all = pd.DataFrame(all_annotations)"
   ],
   "metadata": {
    "collapsed": false,
    "pycharm": {
     "name": "#%%\n"
    }
   }
  },
  {
   "cell_type": "markdown",
   "source": [
    "# check dataframe info"
   ],
   "metadata": {
    "collapsed": false,
    "pycharm": {
     "name": "#%% md\n"
    }
   }
  },
  {
   "cell_type": "code",
   "execution_count": null,
   "outputs": [],
   "source": [
    "    print('---------------------# Dataframe Head #---------------------\\n')\n",
    "    print(tabulate(df_all.head(), headers='keys', tablefmt='psql'))\n",
    "    print('\\n\\n---------------------# Dataframe info #---------------------\\n')\n",
    "    print(df_all.info())\n",
    "    print(f'\\n\\n## Columns: {df_all.columns}')\n",
    "    print(f'\\n\\n# Total num objects: {df_all.shape[0]}')\n",
    "    print('\\n\\n---------------------# Amount each object #---------------------\\n')\n",
    "    print(df_all['obj_name'].value_counts())\n"
   ],
   "metadata": {
    "collapsed": false,
    "pycharm": {
     "name": "#%%\n"
    }
   }
  },
  {
   "cell_type": "markdown",
   "source": [
    "# fix dataframe types"
   ],
   "metadata": {
    "collapsed": false,
    "pycharm": {
     "name": "#%% md\n"
    }
   }
  },
  {
   "cell_type": "code",
   "execution_count": null,
   "outputs": [],
   "source": [
    "class_map = {'missing_hole': 0, 'mouse_bite': 1, 'open_circuit': 2, 'short': 3, 'spur': 4, 'spurious_copper': 5}\n",
    "def get_class_id(class_name: str) -> int:\n",
    "    return class_map[class_name]"
   ],
   "metadata": {
    "collapsed": false,
    "pycharm": {
     "name": "#%%\n"
    }
   }
  },
  {
   "cell_type": "code",
   "execution_count": null,
   "outputs": [],
   "source": [
    "df_all['class_id'] = df_all['obj_name'].apply(get_class_id)\n",
    "\n",
    "int_cols = ['img_width', 'img_height', 'x_min', 'x_max', 'y_min', 'y_max', 'class_id']\n",
    "str_cols = ['img_name', 'obj_name']\n",
    "\n",
    "df_all[int_cols] = df_all[int_cols].astype(int)\n",
    "df_all[str_cols] = df_all[str_cols].astype(str)\n",
    "print('\\n\\n---------------------# Dataframe info #---------------------\\n')\n",
    "print(df_all.info())"
   ],
   "metadata": {
    "collapsed": false,
    "pycharm": {
     "name": "#%%\n"
    }
   }
  },
  {
   "cell_type": "markdown",
   "source": [
    "# Create YOLO format box coodinates and add class ids"
   ],
   "metadata": {
    "collapsed": false,
    "pycharm": {
     "name": "#%% md\n"
    }
   }
  },
  {
   "cell_type": "code",
   "execution_count": null,
   "outputs": [],
   "source": [
    "df_all['center_x'] = ((df_all['x_min'] + df_all['x_max'])/2)/df_all['img_width']\n",
    "df_all['center_y'] = ((df_all['y_min'] + df_all['y_max'])/2)/df_all['img_height']\n",
    "df_all['box_width'] = (df_all['x_max'] - df_all['x_min'])/df_all['img_width']\n",
    "df_all['box_height'] = (df_all['y_max'] - df_all['y_min'])/df_all['img_height']"
   ],
   "metadata": {
    "collapsed": false,
    "pycharm": {
     "name": "#%%\n"
    }
   }
  },
  {
   "cell_type": "code",
   "execution_count": null,
   "outputs": [],
   "source": [
    "print('\\n\\n---------------------# Dataframe Head #---------------------\\n')\n",
    "print(tabulate(df_all.head(), headers='keys', tablefmt='psql'))"
   ],
   "metadata": {
    "collapsed": false,
    "pycharm": {
     "name": "#%%\n"
    }
   }
  },
  {
   "cell_type": "markdown",
   "source": [
    "# CREATING YOLO TRAIN / TEST / VALID FOLDERS"
   ],
   "metadata": {
    "collapsed": false,
    "pycharm": {
     "name": "#%% md\n"
    }
   }
  },
  {
   "cell_type": "code",
   "execution_count": null,
   "outputs": [],
   "source": [
    "train_images, val_images = train_test_split(all_img_files, test_size=0.3, random_state=9) # 70% train\n",
    "val_images, test_images = train_test_split(val_images, test_size=0.5, random_state=9) # 15% test / 15% validation\n",
    "\n",
    "print(f'\\n\\n# Total Images: {len(all_img_files)}')\n",
    "print(f'# test size: {len(train_images)} - {len(train_images) / len(all_img_files):.2f}')\n",
    "print(f'# test size: {len(test_images)} - {len(test_images) / len(all_img_files):.2f}')\n",
    "print(f'# test size: {len(val_images)} - {len(val_images) / len(all_img_files):.2f}')"
   ],
   "metadata": {
    "collapsed": false,
    "pycharm": {
     "name": "#%%\n"
    }
   }
  },
  {
   "cell_type": "markdown",
   "source": [
    "## start creating YOLO_DATASET"
   ],
   "metadata": {
    "collapsed": false,
    "pycharm": {
     "name": "#%% md\n"
    }
   }
  },
  {
   "cell_type": "code",
   "execution_count": null,
   "outputs": [],
   "source": [
    "os.chdir('/kaggle/working')\n",
    "os.getcwd()"
   ],
   "metadata": {
    "collapsed": false,
    "pycharm": {
     "name": "#%%\n"
    }
   }
  },
  {
   "cell_type": "code",
   "execution_count": null,
   "outputs": [],
   "source": [
    "folders = ['', 'train', 'test', 'val']\n",
    "for folder in folders:\n",
    "    path = rf'/kaggle/working/yolo_pcb_dataset/{folder}'\n",
    "    if not os.path.isdir(path):\n",
    "        os.mkdir(path)\n",
    "\n",
    "    if folder != '':\n",
    "        img_path_exist = os.path.isdir(img_path := os.path.join(path, 'images'))\n",
    "        ann_path_exist = os.path.isdir(ann_path := os.path.join(path, 'labels'))\n",
    "        if not img_path_exist:\n",
    "            os.mkdir(img_path)\n",
    "        if not ann_path_exist:\n",
    "            os.mkdir(ann_path)"
   ],
   "metadata": {
    "collapsed": false,
    "pycharm": {
     "name": "#%%\n"
    }
   }
  },
  {
   "cell_type": "markdown",
   "source": [
    "## Copie images from original dataset to the new yolo dataset"
   ],
   "metadata": {
    "collapsed": false,
    "pycharm": {
     "name": "#%% md\n"
    }
   }
  },
  {
   "cell_type": "code",
   "execution_count": null,
   "outputs": [],
   "source": [
    "def create_label(img_name: str, df: pd.DataFrame, dest_path: str) -> None:\n",
    "    text_file = os.path.join(dest_path, img_name.replace(\"jpg\",\"txt\"))\n",
    "    text_file = text_file.replace('\\\\', '/')\n",
    "\n",
    "    cols2save = ['img_name', 'class_id', 'center_x', 'center_y', 'box_width', 'box_height']\n",
    "    groupby_obj = df[cols2save].groupby('img_name')\n",
    "    #print(tabulate(groupby_obj.get_group(img_name), headers='keys', tablefmt='psql'))\n",
    "    groupby_obj.get_group(img_name).set_index('img_name').to_csv(text_file, sep=' ', index=False, header=False)"
   ],
   "metadata": {
    "collapsed": false,
    "pycharm": {
     "name": "#%%\n"
    }
   }
  },
  {
   "cell_type": "code",
   "execution_count": null,
   "outputs": [],
   "source": [
    "img_src_dict = {'train': train_images, 'test': test_images, 'val': val_images}\n",
    "print_buffer = []\n",
    "for folder in folders[1:]:\n",
    "    path = rf'/kaggle/working/yolo_pcb_dataset/{folder}/images'\n",
    "    for src_path in img_src_dict[folder]:\n",
    "        dest_path = os.path.join(path, src_path.split('/')[-1])\n",
    "        dest_path = replace_text(dest_path)\n",
    "        copyfile(src_path, dest_path)\n",
    "        print_buffer.append(f'copied \\'{src_path}\\' to \\'{dest_path}\\'')\n",
    "\n",
    "with open('copies_log.txt', \"w\") as cpy_file:\n",
    "    print(\"\\n\".join(print_buffer), file=cpy_file)\n",
    "\n",
    "for folder in folders[1:]:\n",
    "    img_path = rf'/kaggle/working/yolo_pcb_dataset/{folder}/images'\n",
    "    ann_path = rf'/kaggle/working/yolo_pcb_dataset/{folder}/labels'\n",
    "    for image_src_path in img_src_dict[folder]:\n",
    "        img_name = image_src_path.split('/')[-1]\n",
    "        create_label(img_name=img_name, df=df_all, dest_path=ann_path)"
   ],
   "metadata": {
    "collapsed": false,
    "pycharm": {
     "name": "#%%\n"
    }
   }
  },
  {
   "cell_type": "markdown",
   "source": [
    "## create data.yaml file"
   ],
   "metadata": {
    "collapsed": false,
    "pycharm": {
     "name": "#%% md\n"
    }
   }
  },
  {
   "cell_type": "code",
   "execution_count": null,
   "outputs": [],
   "source": [
    "import yaml"
   ],
   "metadata": {
    "collapsed": false,
    "pycharm": {
     "name": "#%%\n"
    }
   }
  },
  {
   "cell_type": "code",
   "execution_count": null,
   "outputs": [],
   "source": [
    "data = {\n",
    "    'train': '/kaggle/working/yolo_pcb_dataset/train/images',\n",
    "    'val': '/kaggle/working/yolo_pcb_dataset/val/images',\n",
    "    'test': '/kaggle/working/yolo_pcb_dataset/test/images',\n",
    "    'nc': 6,\n",
    "    'names': ['missing_hole', 'mouse_bite', 'open_circuit', 'short', 'spur', 'spurious_copper']}\n",
    "\n",
    "with open('/kaggle/working/data.yaml', 'w') as file:\n",
    "    yaml.dump(data, file, default_flow_style=False)"
   ],
   "metadata": {
    "collapsed": false,
    "pycharm": {
     "name": "#%%\n"
    }
   }
  },
  {
   "cell_type": "markdown",
   "source": [
    "## Tranning the yolo model"
   ],
   "metadata": {
    "collapsed": false,
    "pycharm": {
     "name": "#%% md\n"
    }
   }
  },
  {
   "cell_type": "code",
   "execution_count": null,
   "outputs": [],
   "source": [
    "# !git clone https://github.com/ultralytics/ultralytics -b main"
   ],
   "metadata": {
    "collapsed": false,
    "pycharm": {
     "name": "#%%\n"
    }
   }
  },
  {
   "cell_type": "code",
   "execution_count": null,
   "outputs": [],
   "source": [
    "!yolo mode=train data='/kaggle/working/data.yaml' model=yolov8l.pt batch=8 name=pcb_err_model epochs=50 lr0=0.01"
   ],
   "metadata": {
    "collapsed": false,
    "pycharm": {
     "name": "#%%\n"
    }
   }
  },
  {
   "cell_type": "markdown",
   "source": [
    "# downloading the trained model"
   ],
   "metadata": {
    "collapsed": false,
    "pycharm": {
     "name": "#%% md\n"
    }
   }
  },
  {
   "cell_type": "code",
   "execution_count": null,
   "outputs": [],
   "source": [
    "import shutil\n",
    "shutil.make_archive('err_pcb_model', 'zip', '/kaggle/working/runs')"
   ],
   "metadata": {
    "collapsed": false,
    "pycharm": {
     "name": "#%%\n"
    }
   }
  },
  {
   "cell_type": "code",
   "execution_count": null,
   "outputs": [],
   "source": [],
   "metadata": {
    "collapsed": false,
    "pycharm": {
     "name": "#%%\n"
    }
   }
  },
  {
   "cell_type": "code",
   "source": "annotations_dir = r'/kaggle/input/pcb-defects/PCB_DATASET/Annotations'\nimages_dir = r'/kaggle/input/pcb-defects/PCB_DATASET/images'\n\n# Get source paths\nlist_anotations_src_dirs = [os.path.join(annotations_dir, class_name) for class_name in os.listdir(annotations_dir)]\nreplace_text = lambda x: x.replace('\\\\', '/')\nlist_anotations_src_dirs = list(map(replace_text, list_anotations_src_dirs))\n\nlist_images_src_dirs = [os.path.join(images_dir, class_name) for class_name in os.listdir(images_dir)]\nlist_images_src_dirs = list(map(replace_text, list_images_src_dirs))\n\n\n# get all xml files paths\nall_ann_files = []\nfor each_class in list_anotations_src_dirs:\n    xml_files = glob(each_class + '/*.xml')\n    all_ann_files += list(map(replace_text, xml_files))\n\n\n# get all images files paths\nall_img_files = []\nfor each_class in list_images_src_dirs:\n    img_files = glob(each_class + '/*.jpg')\n    all_img_files += list(map(replace_text, img_files))\n\n\n# print(extract_img_text('kaggle_pcb_dataset/Annotations/Missing_hole/01_missing_hole_01.xml'))\nall_annotations = []\nfor xml_file in all_ann_files:\n    all_annotations += extract_img_text(xml_file)\n\ndf_all = pd.DataFrame(all_annotations)",
   "metadata": {
    "execution": {
     "iopub.status.busy": "2024-05-23T22:28:45.501258Z",
     "iopub.execute_input": "2024-05-23T22:28:45.501801Z",
     "iopub.status.idle": "2024-05-23T22:28:49.755013Z",
     "shell.execute_reply.started": "2024-05-23T22:28:45.501776Z",
     "shell.execute_reply": "2024-05-23T22:28:49.754216Z"
    },
    "trusted": true
   },
   "execution_count": 15,
   "outputs": []
  },
  {
   "cell_type": "markdown",
   "source": "# check dataframe info",
   "metadata": {}
  },
  {
   "cell_type": "code",
   "source": "    print('---------------------# Dataframe Head #---------------------\\n')\n    print(tabulate(df_all.head(), headers='keys', tablefmt='psql'))\n    print('\\n\\n---------------------# Dataframe info #---------------------\\n')\n    print(df_all.info())\n    print(f'\\n\\n## Columns: {df_all.columns}')\n    print(f'\\n\\n# Total num objects: {df_all.shape[0]}')\n    print('\\n\\n---------------------# Amount each object #---------------------\\n')\n    print(df_all['obj_name'].value_counts())\n",
   "metadata": {
    "execution": {
     "iopub.status.busy": "2024-05-23T22:28:49.756147Z",
     "iopub.execute_input": "2024-05-23T22:28:49.756514Z",
     "iopub.status.idle": "2024-05-23T22:28:49.791742Z",
     "shell.execute_reply.started": "2024-05-23T22:28:49.756481Z",
     "shell.execute_reply": "2024-05-23T22:28:49.790719Z"
    },
    "trusted": true
   },
   "execution_count": 16,
   "outputs": [
    {
     "name": "stdout",
     "text": "---------------------# Dataframe Head #---------------------\n\n+----+----------------------+-------------+--------------+------------+---------+---------+---------+---------+\n|    | img_name             |   img_width |   img_height | obj_name   |   x_min |   x_max |   y_min |   y_max |\n|----+----------------------+-------------+--------------+------------+---------+---------+---------+---------|\n|  0 | 01_mouse_bite_11.jpg |        3034 |         1586 | mouse_bite |    1199 |    1234 |     966 |    1004 |\n|  1 | 01_mouse_bite_11.jpg |        3034 |         1586 | mouse_bite |    2042 |    2073 |     755 |     786 |\n|  2 | 01_mouse_bite_11.jpg |        3034 |         1586 | mouse_bite |    1472 |    1507 |     607 |     639 |\n|  3 | 01_mouse_bite_17.jpg |        3034 |         1586 | mouse_bite |    2168 |    2200 |     854 |     887 |\n|  4 | 01_mouse_bite_17.jpg |        3034 |         1586 | mouse_bite |    1513 |    1545 |     919 |     957 |\n+----+----------------------+-------------+--------------+------------+---------+---------+---------+---------+\n\n\n---------------------# Dataframe info #---------------------\n\n<class 'pandas.core.frame.DataFrame'>\nRangeIndex: 2953 entries, 0 to 2952\nData columns (total 8 columns):\n #   Column      Non-Null Count  Dtype \n---  ------      --------------  ----- \n 0   img_name    2953 non-null   object\n 1   img_width   2953 non-null   object\n 2   img_height  2953 non-null   object\n 3   obj_name    2953 non-null   object\n 4   x_min       2953 non-null   object\n 5   x_max       2953 non-null   object\n 6   y_min       2953 non-null   object\n 7   y_max       2953 non-null   object\ndtypes: object(8)\nmemory usage: 184.7+ KB\nNone\n\n\n## Columns: Index(['img_name', 'img_width', 'img_height', 'obj_name', 'x_min', 'x_max',\n       'y_min', 'y_max'],\n      dtype='object')\n\n\n# Total num objects: 2953\n\n\n---------------------# Amount each object #---------------------\n\nobj_name\nspurious_copper    503\nmissing_hole       497\nmouse_bite         492\nshort              491\nspur               488\nopen_circuit       482\nName: count, dtype: int64\n",
     "output_type": "stream"
    }
   ]
  },
  {
   "cell_type": "markdown",
   "source": "# fix dataframe types",
   "metadata": {}
  },
  {
   "cell_type": "code",
   "source": "class_map = {'missing_hole': 0, 'mouse_bite': 1, 'open_circuit': 2, 'short': 3, 'spur': 4, 'spurious_copper': 5}\ndef get_class_id(class_name: str) -> int:\n    return class_map[class_name]",
   "metadata": {
    "execution": {
     "iopub.status.busy": "2024-05-23T22:28:49.792804Z",
     "iopub.execute_input": "2024-05-23T22:28:49.793058Z",
     "iopub.status.idle": "2024-05-23T22:28:49.806719Z",
     "shell.execute_reply.started": "2024-05-23T22:28:49.793035Z",
     "shell.execute_reply": "2024-05-23T22:28:49.805961Z"
    },
    "trusted": true
   },
   "execution_count": 17,
   "outputs": []
  },
  {
   "cell_type": "code",
   "source": "df_all['class_id'] = df_all['obj_name'].apply(get_class_id)\n\nint_cols = ['img_width', 'img_height', 'x_min', 'x_max', 'y_min', 'y_max', 'class_id']\nstr_cols = ['img_name', 'obj_name']\n\ndf_all[int_cols] = df_all[int_cols].astype(int)\ndf_all[str_cols] = df_all[str_cols].astype(str)\nprint('\\n\\n---------------------# Dataframe info #---------------------\\n')\nprint(df_all.info())",
   "metadata": {
    "execution": {
     "iopub.status.busy": "2024-05-23T22:28:49.808046Z",
     "iopub.execute_input": "2024-05-23T22:28:49.808493Z",
     "iopub.status.idle": "2024-05-23T22:28:49.831254Z",
     "shell.execute_reply.started": "2024-05-23T22:28:49.808462Z",
     "shell.execute_reply": "2024-05-23T22:28:49.830436Z"
    },
    "trusted": true
   },
   "execution_count": 18,
   "outputs": [
    {
     "name": "stdout",
     "text": "\n\n---------------------# Dataframe info #---------------------\n\n<class 'pandas.core.frame.DataFrame'>\nRangeIndex: 2953 entries, 0 to 2952\nData columns (total 9 columns):\n #   Column      Non-Null Count  Dtype \n---  ------      --------------  ----- \n 0   img_name    2953 non-null   object\n 1   img_width   2953 non-null   int64 \n 2   img_height  2953 non-null   int64 \n 3   obj_name    2953 non-null   object\n 4   x_min       2953 non-null   int64 \n 5   x_max       2953 non-null   int64 \n 6   y_min       2953 non-null   int64 \n 7   y_max       2953 non-null   int64 \n 8   class_id    2953 non-null   int64 \ndtypes: int64(7), object(2)\nmemory usage: 207.8+ KB\nNone\n",
     "output_type": "stream"
    }
   ]
  },
  {
   "cell_type": "markdown",
   "source": "# Create YOLO format box coodinates and add class ids",
   "metadata": {}
  },
  {
   "cell_type": "code",
   "source": "df_all['center_x'] = ((df_all['x_min'] + df_all['x_max'])/2)/df_all['img_width']\ndf_all['center_y'] = ((df_all['y_min'] + df_all['y_max'])/2)/df_all['img_height']\ndf_all['box_width'] = (df_all['x_max'] - df_all['x_min'])/df_all['img_width']\ndf_all['box_height'] = (df_all['y_max'] - df_all['y_min'])/df_all['img_height']",
   "metadata": {
    "execution": {
     "iopub.status.busy": "2024-05-23T22:28:49.832260Z",
     "iopub.execute_input": "2024-05-23T22:28:49.832533Z",
     "iopub.status.idle": "2024-05-23T22:28:49.841708Z",
     "shell.execute_reply.started": "2024-05-23T22:28:49.832510Z",
     "shell.execute_reply": "2024-05-23T22:28:49.840815Z"
    },
    "trusted": true
   },
   "execution_count": 19,
   "outputs": []
  },
  {
   "cell_type": "code",
   "source": "print('\\n\\n---------------------# Dataframe Head #---------------------\\n')\nprint(tabulate(df_all.head(), headers='keys', tablefmt='psql'))",
   "metadata": {
    "execution": {
     "iopub.status.busy": "2024-05-23T22:28:49.842937Z",
     "iopub.execute_input": "2024-05-23T22:28:49.843216Z",
     "iopub.status.idle": "2024-05-23T22:28:49.852007Z",
     "shell.execute_reply.started": "2024-05-23T22:28:49.843194Z",
     "shell.execute_reply": "2024-05-23T22:28:49.851160Z"
    },
    "trusted": true
   },
   "execution_count": 20,
   "outputs": [
    {
     "name": "stdout",
     "text": "\n\n---------------------# Dataframe Head #---------------------\n\n+----+----------------------+-------------+--------------+------------+---------+---------+---------+---------+------------+------------+------------+-------------+--------------+\n|    | img_name             |   img_width |   img_height | obj_name   |   x_min |   x_max |   y_min |   y_max |   class_id |   center_x |   center_y |   box_width |   box_height |\n|----+----------------------+-------------+--------------+------------+---------+---------+---------+---------+------------+------------+------------+-------------+--------------|\n|  0 | 01_mouse_bite_11.jpg |        3034 |         1586 | mouse_bite |    1199 |    1234 |     966 |    1004 |          1 |   0.400956 |   0.621059 |   0.0115359 |    0.0239596 |\n|  1 | 01_mouse_bite_11.jpg |        3034 |         1586 | mouse_bite |    2042 |    2073 |     755 |     786 |          1 |   0.678148 |   0.485813 |   0.0102175 |    0.019546  |\n|  2 | 01_mouse_bite_11.jpg |        3034 |         1586 | mouse_bite |    1472 |    1507 |     607 |     639 |          1 |   0.490936 |   0.392812 |   0.0115359 |    0.0201765 |\n|  3 | 01_mouse_bite_17.jpg |        3034 |         1586 | mouse_bite |    2168 |    2200 |     854 |     887 |          1 |   0.719842 |   0.548865 |   0.0105471 |    0.0208071 |\n|  4 | 01_mouse_bite_17.jpg |        3034 |         1586 | mouse_bite |    1513 |    1545 |     919 |     957 |          1 |   0.503955 |   0.591425 |   0.0105471 |    0.0239596 |\n+----+----------------------+-------------+--------------+------------+---------+---------+---------+---------+------------+------------+------------+-------------+--------------+\n",
     "output_type": "stream"
    }
   ]
  },
  {
   "cell_type": "markdown",
   "source": "# CREATING YOLO TRAIN / TEST / VALID FOLDERS",
   "metadata": {}
  },
  {
   "cell_type": "code",
   "source": "train_images, val_images = train_test_split(all_img_files, test_size=0.3, random_state=9) # 70% train\nval_images, test_images = train_test_split(val_images, test_size=0.5, random_state=9) # 15% test / 15% validation\n\nprint(f'\\n\\n# Total Images: {len(all_img_files)}')\nprint(f'# test size: {len(train_images)} - {len(train_images) / len(all_img_files):.2f}')\nprint(f'# test size: {len(test_images)} - {len(test_images) / len(all_img_files):.2f}')\nprint(f'# test size: {len(val_images)} - {len(val_images) / len(all_img_files):.2f}')",
   "metadata": {
    "execution": {
     "iopub.status.busy": "2024-05-23T22:28:49.854727Z",
     "iopub.execute_input": "2024-05-23T22:28:49.854969Z",
     "iopub.status.idle": "2024-05-23T22:28:49.863751Z",
     "shell.execute_reply.started": "2024-05-23T22:28:49.854949Z",
     "shell.execute_reply": "2024-05-23T22:28:49.862959Z"
    },
    "trusted": true
   },
   "execution_count": 21,
   "outputs": [
    {
     "name": "stdout",
     "text": "\n\n# Total Images: 693\n# test size: 485 - 0.70\n# test size: 104 - 0.15\n# test size: 104 - 0.15\n",
     "output_type": "stream"
    }
   ]
  },
  {
   "cell_type": "markdown",
   "source": "## start creating YOLO_DATASET",
   "metadata": {}
  },
  {
   "cell_type": "code",
   "source": "os.chdir('/kaggle/working')\nos.getcwd()",
   "metadata": {
    "execution": {
     "iopub.status.busy": "2024-05-23T22:28:49.864631Z",
     "iopub.execute_input": "2024-05-23T22:28:49.864883Z",
     "iopub.status.idle": "2024-05-23T22:28:49.874336Z",
     "shell.execute_reply.started": "2024-05-23T22:28:49.864862Z",
     "shell.execute_reply": "2024-05-23T22:28:49.873529Z"
    },
    "trusted": true
   },
   "execution_count": 22,
   "outputs": [
    {
     "execution_count": 22,
     "output_type": "execute_result",
     "data": {
      "text/plain": "'/kaggle/working'"
     },
     "metadata": {}
    }
   ]
  },
  {
   "cell_type": "code",
   "source": "folders = ['', 'train', 'test', 'val']\nfor folder in folders:\n    path = rf'/kaggle/working/yolo_pcb_dataset/{folder}'\n    if not os.path.isdir(path):\n        os.mkdir(path)\n\n    if folder != '':\n        img_path_exist = os.path.isdir(img_path := os.path.join(path, 'images'))\n        ann_path_exist = os.path.isdir(ann_path := os.path.join(path, 'labels'))\n        if not img_path_exist:\n            os.mkdir(img_path)\n        if not ann_path_exist:\n            os.mkdir(ann_path)",
   "metadata": {
    "execution": {
     "iopub.status.busy": "2024-05-23T22:28:49.875323Z",
     "iopub.execute_input": "2024-05-23T22:28:49.875843Z",
     "iopub.status.idle": "2024-05-23T22:28:49.882739Z",
     "shell.execute_reply.started": "2024-05-23T22:28:49.875811Z",
     "shell.execute_reply": "2024-05-23T22:28:49.881958Z"
    },
    "trusted": true
   },
   "execution_count": 23,
   "outputs": []
  },
  {
   "cell_type": "markdown",
   "source": "## Copie images from original dataset to the new yolo dataset",
   "metadata": {}
  },
  {
   "cell_type": "code",
   "source": "def create_label(img_name: str, df: pd.DataFrame, dest_path: str) -> None:\n    text_file = os.path.join(dest_path, img_name.replace(\"jpg\",\"txt\"))\n    text_file = text_file.replace('\\\\', '/')\n\n    cols2save = ['img_name', 'class_id', 'center_x', 'center_y', 'box_width', 'box_height']\n    groupby_obj = df[cols2save].groupby('img_name')\n    #print(tabulate(groupby_obj.get_group(img_name), headers='keys', tablefmt='psql'))\n    groupby_obj.get_group(img_name).set_index('img_name').to_csv(text_file, sep=' ', index=False, header=False)",
   "metadata": {
    "execution": {
     "iopub.status.busy": "2024-05-23T22:28:49.883669Z",
     "iopub.execute_input": "2024-05-23T22:28:49.883927Z",
     "iopub.status.idle": "2024-05-23T22:28:49.890401Z",
     "shell.execute_reply.started": "2024-05-23T22:28:49.883896Z",
     "shell.execute_reply": "2024-05-23T22:28:49.889440Z"
    },
    "trusted": true
   },
   "execution_count": 24,
   "outputs": []
  },
  {
   "cell_type": "code",
   "source": "img_src_dict = {'train': train_images, 'test': test_images, 'val': val_images}\nprint_buffer = []\nfor folder in folders[1:]:\n    path = rf'/kaggle/working/yolo_pcb_dataset/{folder}/images'\n    for src_path in img_src_dict[folder]:\n        dest_path = os.path.join(path, src_path.split('/')[-1])\n        dest_path = replace_text(dest_path)\n        copyfile(src_path, dest_path)\n        print_buffer.append(f'copied \\'{src_path}\\' to \\'{dest_path}\\'')\n\nwith open('copies_log.txt', \"w\") as cpy_file:\n    print(\"\\n\".join(print_buffer), file=cpy_file)\n\nfor folder in folders[1:]:\n    img_path = rf'/kaggle/working/yolo_pcb_dataset/{folder}/images'\n    ann_path = rf'/kaggle/working/yolo_pcb_dataset/{folder}/labels'\n    for image_src_path in img_src_dict[folder]:\n        img_name = image_src_path.split('/')[-1]\n        create_label(img_name=img_name, df=df_all, dest_path=ann_path)",
   "metadata": {
    "execution": {
     "iopub.status.busy": "2024-05-23T22:28:49.891583Z",
     "iopub.execute_input": "2024-05-23T22:28:49.891858Z",
     "iopub.status.idle": "2024-05-23T22:29:11.529451Z",
     "shell.execute_reply.started": "2024-05-23T22:28:49.891837Z",
     "shell.execute_reply": "2024-05-23T22:29:11.528361Z"
    },
    "trusted": true
   },
   "execution_count": 25,
   "outputs": []
  },
  {
   "cell_type": "markdown",
   "source": "## create data.yaml file",
   "metadata": {}
  },
  {
   "cell_type": "code",
   "source": "import yaml",
   "metadata": {
    "execution": {
     "iopub.status.busy": "2024-05-23T22:29:11.530775Z",
     "iopub.execute_input": "2024-05-23T22:29:11.531146Z",
     "iopub.status.idle": "2024-05-23T22:29:11.536559Z",
     "shell.execute_reply.started": "2024-05-23T22:29:11.531113Z",
     "shell.execute_reply": "2024-05-23T22:29:11.535350Z"
    },
    "trusted": true
   },
   "execution_count": 26,
   "outputs": []
  },
  {
   "cell_type": "code",
   "source": "data = {\n    'train': '/kaggle/working/yolo_pcb_dataset/train/images',\n    'val': '/kaggle/working/yolo_pcb_dataset/val/images',\n    'test': '/kaggle/working/yolo_pcb_dataset/test/images',\n    'nc': 6,\n    'names': ['missing_hole', 'mouse_bite', 'open_circuit', 'short', 'spur', 'spurious_copper']}\n\nwith open('/kaggle/working/data.yaml', 'w') as file:\n    yaml.dump(data, file, default_flow_style=False)",
   "metadata": {
    "execution": {
     "iopub.status.busy": "2024-05-23T22:29:11.537725Z",
     "iopub.execute_input": "2024-05-23T22:29:11.538066Z",
     "iopub.status.idle": "2024-05-23T22:29:11.548254Z",
     "shell.execute_reply.started": "2024-05-23T22:29:11.538036Z",
     "shell.execute_reply": "2024-05-23T22:29:11.547260Z"
    },
    "trusted": true
   },
   "execution_count": 27,
   "outputs": []
  },
  {
   "cell_type": "markdown",
   "source": "## Tranning the yolo model",
   "metadata": {}
  },
  {
   "cell_type": "code",
   "source": "# !git clone https://github.com/ultralytics/ultralytics -b main",
   "metadata": {
    "execution": {
     "iopub.status.busy": "2024-05-23T22:23:16.066101Z",
     "iopub.execute_input": "2024-05-23T22:23:16.066454Z",
     "iopub.status.idle": "2024-05-23T22:23:18.919368Z",
     "shell.execute_reply.started": "2024-05-23T22:23:16.066419Z",
     "shell.execute_reply": "2024-05-23T22:23:18.918449Z"
    },
    "trusted": true
   },
   "execution_count": 2,
   "outputs": [
    {
     "name": "stdout",
     "text": "Cloning into 'ultralytics'...\nremote: Enumerating objects: 26708, done.\u001B[K\nremote: Counting objects: 100% (1364/1364), done.\u001B[K\nremote: Compressing objects: 100% (760/760), done.\u001B[K\nremote: Total 26708 (delta 864), reused 969 (delta 600), pack-reused 25344\u001B[K\nReceiving objects: 100% (26708/26708), 15.74 MiB | 27.00 MiB/s, done.\nResolving deltas: 100% (18818/18818), done.\n",
     "output_type": "stream"
    }
   ]
  },
  {
   "cell_type": "code",
   "source": "!yolo mode=train data='/kaggle/working/data.yaml' model=yolov8l.pt batch=8 name=pcb_err_model epochs=50 lr0=0.01",
   "metadata": {
    "execution": {
     "iopub.status.busy": "2024-05-23T22:33:56.946576Z",
     "iopub.execute_input": "2024-05-23T22:33:56.947347Z",
     "iopub.status.idle": "2024-05-23T23:05:26.484923Z",
     "shell.execute_reply.started": "2024-05-23T22:33:56.947316Z",
     "shell.execute_reply": "2024-05-23T23:05:26.483879Z"
    },
    "trusted": true
   },
   "execution_count": 32,
   "outputs": [
    {
     "name": "stdout",
     "text": "Ultralytics YOLOv8.2.20 🚀 Python-3.10.13 torch-2.1.2 CUDA:0 (Tesla T4, 15102MiB)\n\u001B[34m\u001B[1mengine/trainer: \u001B[0mtask=detect, mode=train, model=yolov8l.pt, data=/kaggle/working/data.yaml, epochs=50, time=None, patience=100, batch=8, imgsz=640, save=True, save_period=-1, cache=False, device=None, workers=8, project=None, name=pcb_err_model4, exist_ok=False, pretrained=True, optimizer=auto, verbose=True, seed=0, deterministic=True, single_cls=False, rect=False, cos_lr=False, close_mosaic=10, resume=False, amp=True, fraction=1.0, profile=False, freeze=None, multi_scale=False, overlap_mask=True, mask_ratio=4, dropout=0.0, val=True, split=val, save_json=False, save_hybrid=False, conf=None, iou=0.7, max_det=300, half=False, dnn=False, plots=True, source=None, vid_stride=1, stream_buffer=False, visualize=False, augment=False, agnostic_nms=False, classes=None, retina_masks=False, embed=None, show=False, save_frames=False, save_txt=False, save_conf=False, save_crop=False, show_labels=True, show_conf=True, show_boxes=True, line_width=None, format=torchscript, keras=False, optimize=False, int8=False, dynamic=False, simplify=False, opset=None, workspace=4, nms=False, lr0=0.01, lrf=0.01, momentum=0.937, weight_decay=0.0005, warmup_epochs=3.0, warmup_momentum=0.8, warmup_bias_lr=0.1, box=7.5, cls=0.5, dfl=1.5, pose=12.0, kobj=1.0, label_smoothing=0.0, nbs=64, hsv_h=0.015, hsv_s=0.7, hsv_v=0.4, degrees=0.0, translate=0.1, scale=0.5, shear=0.0, perspective=0.0, flipud=0.0, fliplr=0.5, bgr=0.0, mosaic=1.0, mixup=0.0, copy_paste=0.0, auto_augment=randaugment, erasing=0.4, crop_fraction=1.0, cfg=None, tracker=botsort.yaml, save_dir=runs/detect/pcb_err_model4\nOverriding model.yaml nc=80 with nc=6\n\n                   from  n    params  module                                       arguments                     \n  0                  -1  1      1856  ultralytics.nn.modules.conv.Conv             [3, 64, 3, 2]                 \n  1                  -1  1     73984  ultralytics.nn.modules.conv.Conv             [64, 128, 3, 2]               \n  2                  -1  3    279808  ultralytics.nn.modules.block.C2f             [128, 128, 3, True]           \n  3                  -1  1    295424  ultralytics.nn.modules.conv.Conv             [128, 256, 3, 2]              \n  4                  -1  6   2101248  ultralytics.nn.modules.block.C2f             [256, 256, 6, True]           \n  5                  -1  1   1180672  ultralytics.nn.modules.conv.Conv             [256, 512, 3, 2]              \n  6                  -1  6   8396800  ultralytics.nn.modules.block.C2f             [512, 512, 6, True]           \n  7                  -1  1   2360320  ultralytics.nn.modules.conv.Conv             [512, 512, 3, 2]              \n  8                  -1  3   4461568  ultralytics.nn.modules.block.C2f             [512, 512, 3, True]           \n  9                  -1  1    656896  ultralytics.nn.modules.block.SPPF            [512, 512, 5]                 \n 10                  -1  1         0  torch.nn.modules.upsampling.Upsample         [None, 2, 'nearest']          \n 11             [-1, 6]  1         0  ultralytics.nn.modules.conv.Concat           [1]                           \n 12                  -1  3   4723712  ultralytics.nn.modules.block.C2f             [1024, 512, 3]                \n 13                  -1  1         0  torch.nn.modules.upsampling.Upsample         [None, 2, 'nearest']          \n 14             [-1, 4]  1         0  ultralytics.nn.modules.conv.Concat           [1]                           \n 15                  -1  3   1247744  ultralytics.nn.modules.block.C2f             [768, 256, 3]                 \n 16                  -1  1    590336  ultralytics.nn.modules.conv.Conv             [256, 256, 3, 2]              \n 17            [-1, 12]  1         0  ultralytics.nn.modules.conv.Concat           [1]                           \n 18                  -1  3   4592640  ultralytics.nn.modules.block.C2f             [768, 512, 3]                 \n 19                  -1  1   2360320  ultralytics.nn.modules.conv.Conv             [512, 512, 3, 2]              \n 20             [-1, 9]  1         0  ultralytics.nn.modules.conv.Concat           [1]                           \n 21                  -1  3   4723712  ultralytics.nn.modules.block.C2f             [1024, 512, 3]                \n 22        [15, 18, 21]  1   5587426  ultralytics.nn.modules.head.Detect           [6, [256, 512, 512]]          \nModel summary: 365 layers, 43634466 parameters, 43634450 gradients, 165.4 GFLOPs\n\nTransferred 589/595 items from pretrained weights\n\u001B[34m\u001B[1mTensorBoard: \u001B[0mStart with 'tensorboard --logdir runs/detect/pcb_err_model4', view at http://localhost:6006/\nFreezing layer 'model.22.dfl.conv.weight'\n\u001B[34m\u001B[1mAMP: \u001B[0mrunning Automatic Mixed Precision (AMP) checks with YOLOv8n...\n\u001B[34m\u001B[1mAMP: \u001B[0mchecks passed ✅\n\u001B[34m\u001B[1mtrain: \u001B[0mScanning /kaggle/working/yolo_pcb_dataset/train/labels.cache... 485 image\u001B[0m\n\u001B[34m\u001B[1malbumentations: \u001B[0mBlur(p=0.01, blur_limit=(3, 7)), MedianBlur(p=0.01, blur_limit=(3, 7)), ToGray(p=0.01), CLAHE(p=0.01, clip_limit=(1, 4.0), tile_grid_size=(8, 8))\n\u001B[34m\u001B[1mval: \u001B[0mScanning /kaggle/working/yolo_pcb_dataset/val/labels.cache... 104 images, 0\u001B[0m\nPlotting labels to runs/detect/pcb_err_model4/labels.jpg... \n\u001B[34m\u001B[1moptimizer:\u001B[0m 'optimizer=auto' found, ignoring 'lr0=0.01' and 'momentum=0.937' and determining best 'optimizer', 'lr0' and 'momentum' automatically... \n\u001B[34m\u001B[1moptimizer:\u001B[0m AdamW(lr=0.001, momentum=0.9) with parameter groups 97 weight(decay=0.0), 104 weight(decay=0.0005), 103 bias(decay=0.0)\n\u001B[34m\u001B[1mTensorBoard: \u001B[0mmodel graph visualization added ✅\nImage sizes 640 train, 640 val\nUsing 2 dataloader workers\nLogging results to \u001B[1mruns/detect/pcb_err_model4\u001B[0m\nStarting training for 50 epochs...\n\n      Epoch    GPU_mem   box_loss   cls_loss   dfl_loss  Instances       Size\n       1/50      6.05G      3.099       5.51      1.423         25        640: 1\n                 Class     Images  Instances      Box(P          R      mAP50  m\n                   all        104        442      0.175      0.486      0.132     0.0558\n\n      Epoch    GPU_mem   box_loss   cls_loss   dfl_loss  Instances       Size\n       2/50      5.65G      2.236      2.126      1.041         29        640: 1\n                 Class     Images  Instances      Box(P          R      mAP50  m\n                   all        104        442      0.207      0.672      0.196     0.0809\n\n      Epoch    GPU_mem   box_loss   cls_loss   dfl_loss  Instances       Size\n       3/50      5.82G      2.142      1.801       1.01         25        640: 1\n                 Class     Images  Instances      Box(P          R      mAP50  m\n                   all        104        442      0.598      0.641      0.587      0.223\n\n      Epoch    GPU_mem   box_loss   cls_loss   dfl_loss  Instances       Size\n       4/50      5.83G      2.033      1.484      1.001         41        640: 1\n                 Class     Images  Instances      Box(P          R      mAP50  m\n                   all        104        442      0.907      0.753      0.839      0.357\n\n      Epoch    GPU_mem   box_loss   cls_loss   dfl_loss  Instances       Size\n       5/50       5.8G      2.054       1.36      0.996         13        640: 1\n                 Class     Images  Instances      Box(P          R      mAP50  m\n                   all        104        442      0.796      0.759      0.798       0.32\n\n      Epoch    GPU_mem   box_loss   cls_loss   dfl_loss  Instances       Size\n       6/50      5.66G      1.923      1.227     0.9703         35        640: 1\n                 Class     Images  Instances      Box(P          R      mAP50  m\n                   all        104        442      0.812      0.836      0.856      0.394\n\n      Epoch    GPU_mem   box_loss   cls_loss   dfl_loss  Instances       Size\n       7/50      5.81G      1.913      1.173     0.9748         42        640: 1\n                 Class     Images  Instances      Box(P          R      mAP50  m\n                   all        104        442      0.853      0.815      0.839      0.358\n\n      Epoch    GPU_mem   box_loss   cls_loss   dfl_loss  Instances       Size\n       8/50      5.82G      1.903      1.164     0.9742         23        640: 1\n                 Class     Images  Instances      Box(P          R      mAP50  m\n                   all        104        442      0.902      0.804      0.859      0.387\n\n      Epoch    GPU_mem   box_loss   cls_loss   dfl_loss  Instances       Size\n       9/50      5.82G      1.876      1.176     0.9572         27        640: 1\n                 Class     Images  Instances      Box(P          R      mAP50  m\n                   all        104        442      0.939        0.8      0.856      0.382\n\n      Epoch    GPU_mem   box_loss   cls_loss   dfl_loss  Instances       Size\n      10/50      5.79G      1.805      1.063     0.9369         42        640: 1\n                 Class     Images  Instances      Box(P          R      mAP50  m\n                   all        104        442      0.915      0.819      0.863      0.384\n\n      Epoch    GPU_mem   box_loss   cls_loss   dfl_loss  Instances       Size\n      11/50      5.85G      1.843       1.03     0.9372         36        640: 1\n                 Class     Images  Instances      Box(P          R      mAP50  m\n                   all        104        442      0.896      0.817       0.84      0.364\n\n      Epoch    GPU_mem   box_loss   cls_loss   dfl_loss  Instances       Size\n      12/50       5.8G       1.79      1.008     0.9408         19        640: 1\n                 Class     Images  Instances      Box(P          R      mAP50  m\n                   all        104        442      0.879       0.83      0.885      0.405\n\n      Epoch    GPU_mem   box_loss   cls_loss   dfl_loss  Instances       Size\n      13/50       5.8G      1.742     0.9707     0.9328         33        640: 1\n                 Class     Images  Instances      Box(P          R      mAP50  m\n                   all        104        442      0.933      0.844      0.889      0.436\n\n      Epoch    GPU_mem   box_loss   cls_loss   dfl_loss  Instances       Size\n      14/50      5.64G      1.686     0.9169     0.9264         42        640: 1\n                 Class     Images  Instances      Box(P          R      mAP50  m\n                   all        104        442      0.904       0.83      0.886       0.43\n\n      Epoch    GPU_mem   box_loss   cls_loss   dfl_loss  Instances       Size\n      15/50      5.82G      1.737     0.9397     0.9313         32        640: 1\n                 Class     Images  Instances      Box(P          R      mAP50  m\n                   all        104        442      0.948      0.846      0.902      0.445\n\n      Epoch    GPU_mem   box_loss   cls_loss   dfl_loss  Instances       Size\n      16/50      5.82G      1.697     0.9146     0.9304         17        640: 1\n                 Class     Images  Instances      Box(P          R      mAP50  m\n                   all        104        442      0.962       0.87      0.915      0.459\n\n      Epoch    GPU_mem   box_loss   cls_loss   dfl_loss  Instances       Size\n      17/50      5.83G      1.678      0.876     0.9308         24        640: 1\n                 Class     Images  Instances      Box(P          R      mAP50  m\n                   all        104        442      0.938      0.876      0.906      0.425\n\n      Epoch    GPU_mem   box_loss   cls_loss   dfl_loss  Instances       Size\n      18/50       5.8G      1.665     0.8507     0.9154         22        640: 1\n                 Class     Images  Instances      Box(P          R      mAP50  m\n                   all        104        442      0.933      0.863      0.921      0.446\n\n      Epoch    GPU_mem   box_loss   cls_loss   dfl_loss  Instances       Size\n      19/50      5.83G      1.642     0.8479     0.9176         24        640: 1\n                 Class     Images  Instances      Box(P          R      mAP50  m\n                   all        104        442       0.95      0.884      0.926      0.457\n\n      Epoch    GPU_mem   box_loss   cls_loss   dfl_loss  Instances       Size\n      20/50      5.81G       1.65     0.8676      0.923         24        640: 1\n                 Class     Images  Instances      Box(P          R      mAP50  m\n                   all        104        442      0.928      0.888      0.919      0.459\n\n      Epoch    GPU_mem   box_loss   cls_loss   dfl_loss  Instances       Size\n      21/50      5.82G      1.612     0.8413     0.9065         26        640: 1\n                 Class     Images  Instances      Box(P          R      mAP50  m\n                   all        104        442      0.955      0.903       0.93       0.47\n\n      Epoch    GPU_mem   box_loss   cls_loss   dfl_loss  Instances       Size\n      22/50      5.66G      1.599      0.819     0.9109         45        640: 1\n                 Class     Images  Instances      Box(P          R      mAP50  m\n                   all        104        442      0.938        0.9      0.924      0.479\n\n      Epoch    GPU_mem   box_loss   cls_loss   dfl_loss  Instances       Size\n      23/50      5.83G      1.566     0.7649     0.9043         44        640: 1\n                 Class     Images  Instances      Box(P          R      mAP50  m\n                   all        104        442      0.969      0.903      0.935      0.475\n\n      Epoch    GPU_mem   box_loss   cls_loss   dfl_loss  Instances       Size\n      24/50      5.82G      1.588     0.7799      0.899         34        640: 1\n                 Class     Images  Instances      Box(P          R      mAP50  m\n                   all        104        442      0.955      0.913      0.938      0.487\n\n      Epoch    GPU_mem   box_loss   cls_loss   dfl_loss  Instances       Size\n      25/50      5.82G      1.604     0.7819     0.8992         29        640: 1\n                 Class     Images  Instances      Box(P          R      mAP50  m\n                   all        104        442      0.969      0.902      0.928      0.485\n\n      Epoch    GPU_mem   box_loss   cls_loss   dfl_loss  Instances       Size\n      26/50      5.81G      1.517     0.7367     0.8876         28        640: 1\n                 Class     Images  Instances      Box(P          R      mAP50  m\n                   all        104        442      0.941      0.894      0.929      0.483\n\n      Epoch    GPU_mem   box_loss   cls_loss   dfl_loss  Instances       Size\n      27/50      5.85G      1.491     0.7153     0.8875         33        640: 1\n                 Class     Images  Instances      Box(P          R      mAP50  m\n                   all        104        442      0.962      0.892      0.926      0.474\n\n      Epoch    GPU_mem   box_loss   cls_loss   dfl_loss  Instances       Size\n      28/50      5.81G      1.504     0.7064     0.8793         49        640: 1\n                 Class     Images  Instances      Box(P          R      mAP50  m\n                   all        104        442      0.968      0.918      0.943      0.507\n\n      Epoch    GPU_mem   box_loss   cls_loss   dfl_loss  Instances       Size\n      29/50      5.81G      1.514     0.7047     0.8888         25        640: 1\n                 Class     Images  Instances      Box(P          R      mAP50  m\n                   all        104        442      0.949      0.906      0.931      0.482\n\n      Epoch    GPU_mem   box_loss   cls_loss   dfl_loss  Instances       Size\n      30/50      5.65G      1.461     0.6855     0.8837         33        640: 1\n                 Class     Images  Instances      Box(P          R      mAP50  m\n                   all        104        442      0.966      0.895      0.931      0.492\n\n      Epoch    GPU_mem   box_loss   cls_loss   dfl_loss  Instances       Size\n      31/50      5.83G      1.499     0.7009     0.8857         27        640: 1\n                 Class     Images  Instances      Box(P          R      mAP50  m\n                   all        104        442      0.966      0.933      0.942       0.48\n\n      Epoch    GPU_mem   box_loss   cls_loss   dfl_loss  Instances       Size\n      32/50      5.82G      1.488     0.6991     0.8823         24        640: 1\n                 Class     Images  Instances      Box(P          R      mAP50  m\n                   all        104        442      0.959       0.93      0.946      0.482\n\n      Epoch    GPU_mem   box_loss   cls_loss   dfl_loss  Instances       Size\n      33/50      5.83G      1.432     0.6845     0.8771         45        640: 1\n                 Class     Images  Instances      Box(P          R      mAP50  m\n                   all        104        442      0.968      0.885      0.934      0.459\n\n      Epoch    GPU_mem   box_loss   cls_loss   dfl_loss  Instances       Size\n      34/50       5.8G      1.421      0.659      0.873         33        640: 1\n                 Class     Images  Instances      Box(P          R      mAP50  m\n                   all        104        442      0.967      0.916      0.949      0.468\n\n      Epoch    GPU_mem   box_loss   cls_loss   dfl_loss  Instances       Size\n      35/50      5.86G      1.412     0.6645     0.8709         29        640: 1\n                 Class     Images  Instances      Box(P          R      mAP50  m\n                   all        104        442      0.951      0.939      0.947      0.483\n\n      Epoch    GPU_mem   box_loss   cls_loss   dfl_loss  Instances       Size\n      36/50      5.81G      1.431       0.65     0.8704         31        640: 1\n                 Class     Images  Instances      Box(P          R      mAP50  m\n                   all        104        442      0.977      0.922      0.949      0.483\n\n      Epoch    GPU_mem   box_loss   cls_loss   dfl_loss  Instances       Size\n      37/50      5.83G      1.434     0.6684     0.8804         45        640: 1\n                 Class     Images  Instances      Box(P          R      mAP50  m\n                   all        104        442      0.968      0.938      0.955      0.493\n\n      Epoch    GPU_mem   box_loss   cls_loss   dfl_loss  Instances       Size\n      38/50      5.66G      1.394     0.6482     0.8596         43        640: 1\n                 Class     Images  Instances      Box(P          R      mAP50  m\n                   all        104        442      0.963      0.929      0.946      0.512\n\n      Epoch    GPU_mem   box_loss   cls_loss   dfl_loss  Instances       Size\n      39/50      5.83G      1.376     0.6389      0.869         44        640: 1\n                 Class     Images  Instances      Box(P          R      mAP50  m\n                   all        104        442       0.97      0.936      0.951      0.495\n\n      Epoch    GPU_mem   box_loss   cls_loss   dfl_loss  Instances       Size\n      40/50      5.83G      1.332     0.6106      0.857         33        640: 1\n                 Class     Images  Instances      Box(P          R      mAP50  m\n                   all        104        442      0.957      0.933      0.944      0.488\nClosing dataloader mosaic\n\u001B[34m\u001B[1malbumentations: \u001B[0mBlur(p=0.01, blur_limit=(3, 7)), MedianBlur(p=0.01, blur_limit=(3, 7)), ToGray(p=0.01), CLAHE(p=0.01, clip_limit=(1, 4.0), tile_grid_size=(8, 8))\n\n      Epoch    GPU_mem   box_loss   cls_loss   dfl_loss  Instances       Size\n      41/50      5.79G      1.368     0.5966     0.8823         18        640: 1\n                 Class     Images  Instances      Box(P          R      mAP50  m\n                   all        104        442      0.962      0.939       0.95      0.495\n\n      Epoch    GPU_mem   box_loss   cls_loss   dfl_loss  Instances       Size\n      42/50      5.78G       1.34     0.5958     0.8854         21        640: 1\n                 Class     Images  Instances      Box(P          R      mAP50  m\n                   all        104        442      0.961      0.944      0.948      0.504\n\n      Epoch    GPU_mem   box_loss   cls_loss   dfl_loss  Instances       Size\n      43/50      5.81G      1.321     0.5863     0.8843         23        640: 1\n                 Class     Images  Instances      Box(P          R      mAP50  m\n                   all        104        442      0.961      0.937      0.945      0.515\n\n      Epoch    GPU_mem   box_loss   cls_loss   dfl_loss  Instances       Size\n      44/50       5.8G      1.289     0.5651     0.8681         21        640: 1\n                 Class     Images  Instances      Box(P          R      mAP50  m\n                   all        104        442      0.971       0.94      0.952      0.508\n\n      Epoch    GPU_mem   box_loss   cls_loss   dfl_loss  Instances       Size\n      45/50       5.8G      1.277     0.5597     0.8713         23        640: 1\n                 Class     Images  Instances      Box(P          R      mAP50  m\n                   all        104        442      0.972      0.936      0.951      0.515\n\n      Epoch    GPU_mem   box_loss   cls_loss   dfl_loss  Instances       Size\n      46/50      5.65G      1.261     0.5566     0.8713         23        640: 1\n                 Class     Images  Instances      Box(P          R      mAP50  m\n                   all        104        442      0.966      0.938      0.951      0.518\n\n      Epoch    GPU_mem   box_loss   cls_loss   dfl_loss  Instances       Size\n      47/50      5.82G      1.226     0.5363     0.8672         22        640: 1\n                 Class     Images  Instances      Box(P          R      mAP50  m\n                   all        104        442      0.966      0.934      0.951      0.525\n\n      Epoch    GPU_mem   box_loss   cls_loss   dfl_loss  Instances       Size\n      48/50      5.81G      1.217     0.5378     0.8676         22        640: 1\n                 Class     Images  Instances      Box(P          R      mAP50  m\n                   all        104        442      0.966      0.935      0.952      0.522\n\n      Epoch    GPU_mem   box_loss   cls_loss   dfl_loss  Instances       Size\n      49/50      5.81G      1.206     0.5363     0.8609         20        640: 1\n                 Class     Images  Instances      Box(P          R      mAP50  m\n                   all        104        442      0.971       0.94      0.952      0.514\n\n      Epoch    GPU_mem   box_loss   cls_loss   dfl_loss  Instances       Size\n      50/50      5.79G      1.195     0.5291     0.8587         20        640: 1\n                 Class     Images  Instances      Box(P          R      mAP50  m\n                   all        104        442      0.972      0.941      0.952      0.522\n\n50 epochs completed in 0.514 hours.\nOptimizer stripped from runs/detect/pcb_err_model4/weights/last.pt, 87.7MB\nOptimizer stripped from runs/detect/pcb_err_model4/weights/best.pt, 87.7MB\n\nValidating runs/detect/pcb_err_model4/weights/best.pt...\nUltralytics YOLOv8.2.20 🚀 Python-3.10.13 torch-2.1.2 CUDA:0 (Tesla T4, 15102MiB)\nModel summary (fused): 268 layers, 43611234 parameters, 0 gradients, 164.8 GFLOPs\n                 Class     Images  Instances      Box(P          R      mAP50  m\n                   all        104        442      0.965      0.935      0.952      0.525\n          missing_hole        104         66      0.988          1      0.995      0.627\n            mouse_bite        104        107      0.968      0.935      0.956      0.492\n          open_circuit        104         61      0.965      0.951      0.967      0.518\n                 short        104         67      0.974      0.985      0.985      0.547\n                  spur        104         66      0.963      0.797      0.846      0.465\n       spurious_copper        104         75      0.934      0.943      0.961      0.502\nSpeed: 1.3ms preprocess, 14.5ms inference, 0.0ms loss, 2.8ms postprocess per image\nResults saved to \u001B[1mruns/detect/pcb_err_model4\u001B[0m\n💡 Learn more at https://docs.ultralytics.com/modes/train\n",
     "output_type": "stream"
    }
   ]
  },
  {
   "cell_type": "markdown",
   "source": "# downloading the trained model",
   "metadata": {}
  },
  {
   "cell_type": "code",
   "source": "import shutil\nshutil.make_archive('err_pcb_model', 'zip', '/kaggle/working/runs')",
   "metadata": {
    "execution": {
     "iopub.status.busy": "2024-05-23T23:17:12.591327Z",
     "iopub.execute_input": "2024-05-23T23:17:12.592017Z",
     "iopub.status.idle": "2024-05-23T23:17:22.067365Z",
     "shell.execute_reply.started": "2024-05-23T23:17:12.591979Z",
     "shell.execute_reply": "2024-05-23T23:17:22.066427Z"
    },
    "trusted": true
   },
   "execution_count": 33,
   "outputs": [
    {
     "execution_count": 33,
     "output_type": "execute_result",
     "data": {
      "text/plain": "'/kaggle/working/err_pcb_model.zip'"
     },
     "metadata": {}
    }
   ]
  },
  {
   "cell_type": "code",
   "source": "",
   "metadata": {},
   "execution_count": null,
   "outputs": []
  }
 ]
}